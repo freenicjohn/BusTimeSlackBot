{
 "cells": [
  {
   "cell_type": "code",
   "execution_count": 3,
   "id": "initial_id",
   "metadata": {
    "collapsed": true,
    "ExecuteTime": {
     "end_time": "2023-12-30T23:00:36.174856Z",
     "start_time": "2023-12-30T23:00:35.802105Z"
    }
   },
   "outputs": [],
   "source": [
    "import pandas as pd\n",
    "import os\n",
    "from track_buses import *"
   ]
  },
  {
   "cell_type": "code",
   "execution_count": 45,
   "outputs": [
    {
     "name": "stdout",
     "output_type": "stream",
     "text": [
      "    vid   from               start      to                 end\n",
      "0  1858  17578 2023-12-30 11:35:00     NaN                 NaT\n",
      "1  1191  17578 2023-12-30 11:45:00     NaN                 NaT\n",
      "2  1804   1834 2023-12-30 12:40:00     NaN                 NaT\n",
      "3  1876   1834 2023-12-30 12:49:00     NaN                 NaT\n",
      "4  1784  17578 2023-12-30 15:26:00  1915.0 2023-12-30 16:10:00\n",
      "5  1550   1834 2023-12-30 15:44:00     NaN                 NaT\n",
      "6  1761  17578 2023-12-30 15:44:00     NaN                 NaT\n",
      "7  1855  17578 2023-12-30 16:11:00     NaN                 NaT\n",
      "8  1749  17578 2023-12-30 16:39:00     NaN                 NaT\n"
     ]
    }
   ],
   "source": [
    "# Load data\n",
    "df = None\n",
    "headers = [\"vid\", \"from\", \"start\", \"to\", \"end\"]\n",
    "for filename in os.listdir():\n",
    "    if \".csv\" in filename:\n",
    "        if df is not None:\n",
    "            tmp = pd.read_csv(filename, names=headers, parse_dates=[2, 4], date_format=\"%Y%m%d %H:%M\")\n",
    "            df = pd.concat([df, tmp])\n",
    "        else:\n",
    "            df = pd.read_csv(filename, names=headers, parse_dates=[2, 4], date_format=\"%Y%m%d %H:%M\")\n",
    "\n",
    "print(df)\n",
    "# Load configs\n",
    "secret_names = [\"rt_from\", \"rt_to\", \"rt_num\", \"cta_bus_api_key\"]\n",
    "load_secrets(secret_names)"
   ],
   "metadata": {
    "collapsed": false,
    "ExecuteTime": {
     "end_time": "2023-12-30T23:16:03.155947Z",
     "start_time": "2023-12-30T23:16:03.147910Z"
    }
   },
   "id": "7bd913ce7ca61162"
  },
  {
   "cell_type": "code",
   "execution_count": 49,
   "outputs": [
    {
     "name": "stdout",
     "output_type": "stream",
     "text": [
      "\tTracking: 1\n",
      "\tTracking: 0\n",
      "\tTracking: 0\n",
      "\n",
      "Sum: 1 | Total: 9\n"
     ]
    }
   ],
   "source": [
    "# Analyze data\n",
    "rt_froms = os.environ[\"rt_from\"].split(\",\")\n",
    "rt_tos = os.environ[\"rt_to\"].split(\",\")\n",
    "rt_nums = os.environ[\"rt_num\"].split(\",\")\n",
    "sum_tracked = 0\n",
    "\n",
    "start_date = \"2023-12-19\"\n",
    "end_date = \"2023-12-19\"\n",
    "for i in range(len(rt_froms)):\n",
    "    filtered_data = df.query(\"`from` == %s and `to` == %s\" % (rt_froms[i], rt_tos[i]))\n",
    "    print(\"\\tTracking: %s\" % len(filtered_data))\n",
    "    sum_tracked += len(filtered_data)\n",
    "\n",
    "print('\\nSum: %s | Total: %s' %(sum_tracked, len(df)))"
   ],
   "metadata": {
    "collapsed": false,
    "ExecuteTime": {
     "end_time": "2023-12-30T23:17:30.624936Z",
     "start_time": "2023-12-30T23:17:30.619860Z"
    }
   },
   "id": "953cc2fb24a45591"
  },
  {
   "cell_type": "code",
   "execution_count": 75,
   "outputs": [],
   "source": [],
   "metadata": {
    "collapsed": false,
    "ExecuteTime": {
     "end_time": "2023-12-26T03:02:09.437856Z",
     "start_time": "2023-12-26T03:02:09.435030Z"
    }
   },
   "id": "fa395fd723762993"
  }
 ],
 "metadata": {
  "kernelspec": {
   "display_name": "Python 3",
   "language": "python",
   "name": "python3"
  },
  "language_info": {
   "codemirror_mode": {
    "name": "ipython",
    "version": 2
   },
   "file_extension": ".py",
   "mimetype": "text/x-python",
   "name": "python",
   "nbconvert_exporter": "python",
   "pygments_lexer": "ipython2",
   "version": "2.7.6"
  }
 },
 "nbformat": 4,
 "nbformat_minor": 5
}
